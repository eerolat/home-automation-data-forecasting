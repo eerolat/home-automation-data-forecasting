{
  "nbformat": 4,
  "nbformat_minor": 0,
  "metadata": {
    "colab": {
      "name": "Weather Forecast SARIMAX.ipynb",
      "provenance": [],
      "collapsed_sections": []
    },
    "kernelspec": {
      "name": "python3",
      "display_name": "Python 3"
    }
  },
  "cells": [
    {
      "cell_type": "markdown",
      "metadata": {
        "id": "v1lyiRF0-A5u",
        "colab_type": "text"
      },
      "source": [
        "Time-series forecasting from IoT Home Automation Data.\n",
        "\n",
        "Tuomas Eerola - 2019\n",
        "\n",
        "Data source: https://github.com/eerolat/home-automation-data-logger"
      ]
    },
    {
      "cell_type": "markdown",
      "metadata": {
        "id": "3IBlOHGxCKWa",
        "colab_type": "text"
      },
      "source": [
        "# Run the following cell."
      ]
    },
    {
      "cell_type": "markdown",
      "metadata": {
        "id": "bWl2BpSFJrIW",
        "colab_type": "text"
      },
      "source": [
        "Download actual sensor data. "
      ]
    },
    {
      "cell_type": "code",
      "metadata": {
        "id": "T4zvk4jQ-rma",
        "colab_type": "code",
        "colab": {}
      },
      "source": [
        "import pandas as pd\n",
        "\n",
        "from urllib.request import urlopen\n",
        "\n",
        "log_url = \"http://eerola.dy.fi/temp/temperature.log\"\n",
        "\n",
        "series_own = pd.read_csv(log_url, sep=\" \", parse_dates=[[0, 1]])\n",
        "series_own.columns=['Date Time', 'SourceInfo1', 'SourceInfo2', 'MeasurementInfo1', 'Temp', 'MeasurementInfo2', 'Measurement2']\n",
        "#series_own.insert(6, \"Target\", \"NaN\")\n",
        "dropcolumns = ['SourceInfo1', 'SourceInfo2', 'MeasurementInfo1', 'MeasurementInfo2', 'Measurement2']\n",
        "series_own.drop(dropcolumns, inplace=True, axis=1)\n",
        "series_own.set_index('Date Time', inplace=True)\n",
        "\n",
        "series = series_own.reset_index()\n",
        "series = series.drop_duplicates(subset='Date Time', keep='last')\n",
        "series = series.set_index('Date Time')\n",
        "series = series.resample('H').bfill()\n",
        "\n",
        "print (\"Data loading ready.\")"
      ],
      "execution_count": 0,
      "outputs": []
    },
    {
      "cell_type": "markdown",
      "metadata": {
        "id": "InxHdyc__T4o",
        "colab_type": "text"
      },
      "source": [
        "# Visualize the data to see what we've got."
      ]
    },
    {
      "cell_type": "code",
      "metadata": {
        "id": "CLsVxB-Rg834",
        "colab_type": "code",
        "colab": {}
      },
      "source": [
        "from matplotlib import pyplot\n",
        "\n",
        "\n",
        "series.plot()\n",
        "pyplot.show()"
      ],
      "execution_count": 0,
      "outputs": []
    },
    {
      "cell_type": "markdown",
      "metadata": {
        "id": "4GxJ6fXf_oa7",
        "colab_type": "text"
      },
      "source": [
        "Edit the following numbers to your preference."
      ]
    },
    {
      "cell_type": "code",
      "metadata": {
        "id": "agt0oCR_auT0",
        "colab_type": "code",
        "colab": {}
      },
      "source": [
        "series_days = 7\n",
        "\n",
        "prediction_days = 1"
      ],
      "execution_count": 0,
      "outputs": []
    },
    {
      "cell_type": "code",
      "metadata": {
        "id": "DhzCYx35A-SA",
        "colab_type": "code",
        "colab": {}
      },
      "source": [
        "import statsmodels.api as sm\n",
        "import itertools\n",
        "\n",
        "p = d = q = range(0, 2)\n",
        "pdq = list(itertools.product(p, d, q))\n",
        "seasonal_pdq = [(x[0], x[1], x[2], 12) for x in list(itertools.product(p, d, q))]\n",
        "\n",
        "y = series.tail(series_days*24)\n",
        "\n",
        "cols = ['aic', 'param', 'param_seasonal']\n",
        "aics = pd.DataFrame(columns = cols)\n",
        "\n",
        "for param in pdq:\n",
        "  for param_seasonal in seasonal_pdq:\n",
        "    try:\n",
        "      mod = sm.tsa.statespace.SARIMAX(y,order=param,seasonal_order=param_seasonal,enforce_stationarity=False,enforce_invertibility=False)\n",
        "      results = mod.fit()\n",
        "      aics = aics.append({'aic': results.aic, 'param': param, 'param_seasonal': param_seasonal},ignore_index=True)\n",
        "      \n",
        "    except: \n",
        "      continue\n",
        "\n",
        "aics = aics.sort_values(by=['aic'])\n",
        "print(aics.head(1))"
      ],
      "execution_count": 0,
      "outputs": []
    },
    {
      "cell_type": "markdown",
      "metadata": {
        "id": "GLE7d56vqQpr",
        "colab_type": "text"
      },
      "source": [
        "Fitting SARIMAX model.\n",
        "\n",
        "Update the parameters on the next cell to the ones presented above. "
      ]
    },
    {
      "cell_type": "code",
      "metadata": {
        "id": "YqSWQgtXHP6w",
        "colab_type": "code",
        "colab": {}
      },
      "source": [
        "mod = sm.tsa.statespace.SARIMAX(y,\n",
        "                                order=(0, 1, 1),\n",
        "                                seasonal_order=(1, 0, 1, 12),\n",
        "                                enforce_stationarity=False,\n",
        "                                enforce_invertibility=False)\n",
        "\n",
        "results = mod.fit()\n",
        "print(results.summary().tables[1])"
      ],
      "execution_count": 0,
      "outputs": []
    },
    {
      "cell_type": "markdown",
      "metadata": {
        "id": "emucjo3OrMdT",
        "colab_type": "text"
      },
      "source": [
        "See the model fit."
      ]
    },
    {
      "cell_type": "code",
      "metadata": {
        "id": "LZFjaa7RrOgA",
        "colab_type": "code",
        "colab": {}
      },
      "source": [
        "import datetime\n",
        "\n",
        "pred_fit_fit = results.get_prediction(start=y.index[-prediction_days*24], dynamic=False)\n",
        "\n",
        "pred_ci_fit = pred.conf_int()\n",
        "\n",
        "ax = y.plot(label='observed')\n",
        "pred_fit_fit.predicted_mean.plot(ax=ax, label='Forecasted', alpha=.7, figsize=(14, 4))\n",
        "\n",
        "ax.fill_between(pred_ci_fit.index, pred_ci_fit.iloc[:, 0], pred_ci_fit.iloc[:, 1], color='k', alpha=.2)\n",
        "ax.set_xlabel('Date')\n",
        "\n",
        "pyplot.legend()\n",
        "pyplot.show()\n",
        "\n",
        "pred_uc = results.get_forecast(steps=prediction_days*12)\n",
        "pred_ci = pred_uc.conf_int()\n",
        "ax = y.plot(label='observed', figsize=(14, 4))\n",
        "pred_uc.predicted_mean.plot(ax=ax, label='Forecast')\n",
        "ax.fill_between(pred_ci.index, pred_ci.iloc[:, 0], pred_ci.iloc[:, 1], color='k', alpha=.25)\n",
        "ax.set_xlabel('Date')\n",
        "\n",
        "pyplot.legend()\n",
        "pyplot.show()"
      ],
      "execution_count": 0,
      "outputs": []
    },
    {
      "cell_type": "markdown",
      "metadata": {
        "id": "WgLap4cqqec5",
        "colab_type": "text"
      },
      "source": [
        "Draw some cool statistics."
      ]
    },
    {
      "cell_type": "code",
      "metadata": {
        "id": "PdWhv0GtA5fw",
        "colab_type": "code",
        "colab": {}
      },
      "source": [
        "from matplotlib import pyplot\n",
        "\n",
        "results.plot_diagnostics(figsize=(18, 8))\n",
        "\n",
        "pyplot.show()"
      ],
      "execution_count": 0,
      "outputs": []
    }
  ]
}
