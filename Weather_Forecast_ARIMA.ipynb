{
  "nbformat": 4,
  "nbformat_minor": 0,
  "metadata": {
    "colab": {
      "name": "Weather Forecast ARIMA.ipynb",
      "provenance": [],
      "collapsed_sections": []
    },
    "kernelspec": {
      "name": "python3",
      "display_name": "Python 3"
    }
  },
  "cells": [
    {
      "cell_type": "markdown",
      "metadata": {
        "id": "v1lyiRF0-A5u",
        "colab_type": "text"
      },
      "source": [
        "Time-series forecasting from IoT Home Automation Data.\n",
        "\n",
        "Tuomas Eerola - 2019\n",
        "\n",
        "Data source: https://github.com/eerolat/home-automation-data-logger"
      ]
    },
    {
      "cell_type": "markdown",
      "metadata": {
        "id": "3IBlOHGxCKWa",
        "colab_type": "text"
      },
      "source": [
        "# Run either of the following cells.\n",
        "\n",
        "This will to connect you to the data:\n",
        "\n",
        "\n",
        "1.   Some test data from the Internet; or\n",
        "2.   the actual sensor data.\n"
      ]
    },
    {
      "cell_type": "markdown",
      "metadata": {
        "id": "U2HGQYrlJkmY",
        "colab_type": "text"
      },
      "source": [
        "Run the following cell to use test data from the Internet. "
      ]
    },
    {
      "cell_type": "code",
      "metadata": {
        "id": "wcnl6HV9VkDN",
        "colab_type": "code",
        "colab": {}
      },
      "source": [
        "import pandas as pd\n",
        "\n",
        "from urllib.request import urlopen\n",
        "\n",
        "log_url = \"https://raw.githubusercontent.com/jbrownlee/Datasets/master/daily-min-temperatures.csv\"\n",
        "\n",
        "url = urlopen(log_url)\n",
        "\n",
        "series_example = pd.read_csv(log_url, header=0, parse_dates=[0])\n",
        "series_example.columns=['Date Time', 'Temp']\n",
        "\n",
        "series = series_example.drop_duplicates(subset='Date Time', keep='last')\n",
        "series = series.set_index('Date Time')\n",
        "series = series.resample('H').interpolate()\n",
        "\n",
        "print (\"Data loading ready.\")"
      ],
      "execution_count": 0,
      "outputs": []
    },
    {
      "cell_type": "markdown",
      "metadata": {
        "id": "bWl2BpSFJrIW",
        "colab_type": "text"
      },
      "source": [
        "Run the following cell to use actual sensor data. "
      ]
    },
    {
      "cell_type": "code",
      "metadata": {
        "id": "T4zvk4jQ-rma",
        "colab_type": "code",
        "colab": {}
      },
      "source": [
        "import pandas as pd\n",
        "\n",
        "from urllib.request import urlopen\n",
        "\n",
        "log_url = \"http://eerola.dy.fi/temp/temperature.log\"\n",
        "\n",
        "series_own = pd.read_csv(log_url, sep=\" \", parse_dates=[[0, 1]])\n",
        "series_own.columns=['Date Time', 'SourceInfo1', 'SourceInfo2', 'MeasurementInfo1', 'Temp', 'MeasurementInfo2', 'Measurement2']\n",
        "#series_own.insert(6, \"Target\", \"NaN\")\n",
        "dropcolumns = ['SourceInfo1', 'SourceInfo2', 'MeasurementInfo1', 'MeasurementInfo2', 'Measurement2']\n",
        "series_own.drop(dropcolumns, inplace=True, axis=1)\n",
        "series_own.set_index('Date Time', inplace=True)\n",
        "\n",
        "series = series_own.reset_index()\n",
        "series = series.drop_duplicates(subset='Date Time', keep='last')\n",
        "series = series.set_index('Date Time')\n",
        "series = series.resample('H').bfill()\n",
        "\n",
        "print (\"Data loading ready.\")"
      ],
      "execution_count": 0,
      "outputs": []
    },
    {
      "cell_type": "markdown",
      "metadata": {
        "id": "InxHdyc__T4o",
        "colab_type": "text"
      },
      "source": [
        "# Visualize the data to see what we've got."
      ]
    },
    {
      "cell_type": "code",
      "metadata": {
        "id": "CLsVxB-Rg834",
        "colab_type": "code",
        "colab": {}
      },
      "source": [
        "from matplotlib import pyplot\n",
        "\n",
        "\n",
        "series.plot()\n",
        "pyplot.show()"
      ],
      "execution_count": 0,
      "outputs": []
    },
    {
      "cell_type": "markdown",
      "metadata": {
        "id": "QzpWgrB9BHgB",
        "colab_type": "text"
      },
      "source": [
        "# Let's run a forecast."
      ]
    },
    {
      "cell_type": "code",
      "metadata": {
        "id": "48C1JJgGH7ks",
        "colab_type": "code",
        "colab": {}
      },
      "source": [
        "forecast_days = 5"
      ],
      "execution_count": 0,
      "outputs": []
    },
    {
      "cell_type": "markdown",
      "metadata": {
        "id": "2PgMyNJNIOHD",
        "colab_type": "text"
      },
      "source": [
        "Let's fit the forecast model..."
      ]
    },
    {
      "cell_type": "code",
      "metadata": {
        "id": "YbAcnpts7twC",
        "colab_type": "code",
        "colab": {}
      },
      "source": [
        "from pandas import read_csv\n",
        "from statsmodels.tsa.arima_model import ARIMA\n",
        "import datetime\n",
        "\n",
        "model = ARIMA(series, order=(4,0,2))\n",
        "model_fit = model.fit(disp=0)"
      ],
      "execution_count": 0,
      "outputs": []
    },
    {
      "cell_type": "markdown",
      "metadata": {
        "id": "PRw60pDHIU1Y",
        "colab_type": "text"
      },
      "source": [
        "...and run the forecast."
      ]
    },
    {
      "cell_type": "code",
      "metadata": {
        "id": "bVw-TftBC8EB",
        "colab_type": "code",
        "colab": {}
      },
      "source": [
        "start_index = series.index[-1]\n",
        "end_index = start_index + datetime.timedelta(forecast_days)\n",
        "forecast = model_fit.predict(start=start_index, end=end_index)"
      ],
      "execution_count": 0,
      "outputs": []
    },
    {
      "cell_type": "markdown",
      "metadata": {
        "id": "uWmcjqTJTRij",
        "colab_type": "text"
      },
      "source": [
        "# Analysing the data"
      ]
    },
    {
      "cell_type": "markdown",
      "metadata": {
        "id": "eJeUmLhaIgJ8",
        "colab_type": "text"
      },
      "source": [
        "Visualizing the last 7 days and the forecast."
      ]
    },
    {
      "cell_type": "code",
      "metadata": {
        "id": "T0f6RHzB-DD3",
        "colab_type": "code",
        "colab": {}
      },
      "source": [
        "from matplotlib import pyplot\n",
        "\n",
        "\n",
        "series.last('7D').plot()\n",
        "forecast.plot()\n",
        "pyplot.show()"
      ],
      "execution_count": 0,
      "outputs": []
    },
    {
      "cell_type": "markdown",
      "metadata": {
        "id": "ifOrrhc2Bf69",
        "colab_type": "text"
      },
      "source": [
        "Comparing the last 1 day and the next 1 day forecast. "
      ]
    },
    {
      "cell_type": "code",
      "metadata": {
        "id": "i-rvtUS0BqMh",
        "colab_type": "code",
        "colab": {}
      },
      "source": [
        "print(series.last('1D'))"
      ],
      "execution_count": 0,
      "outputs": []
    },
    {
      "cell_type": "code",
      "metadata": {
        "id": "Wr34nICyBuWI",
        "colab_type": "code",
        "colab": {}
      },
      "source": [
        "print(forecast.first('1D'))"
      ],
      "execution_count": 0,
      "outputs": []
    }
  ]
}