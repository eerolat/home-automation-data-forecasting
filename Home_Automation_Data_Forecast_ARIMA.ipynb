{
  "nbformat": 4,
  "nbformat_minor": 0,
  "metadata": {
    "colab": {
      "name": "Weather Forecast ARIMA.ipynb",
      "provenance": [],
      "collapsed_sections": []
    },
    "kernelspec": {
      "name": "python3",
      "display_name": "Python 3"
    }
  },
  "cells": [
    {
      "cell_type": "markdown",
      "metadata": {
        "id": "v1lyiRF0-A5u",
        "colab_type": "text"
      },
      "source": [
        "Time-series forecasting from IoT Home Automation Data.\n",
        "\n",
        "Tuomas Eerola - 2019\n",
        "\n",
        "Data source: https://github.com/eerolat/home-automation-data-logger"
      ]
    },
    {
      "cell_type": "markdown",
      "metadata": {
        "id": "3IBlOHGxCKWa",
        "colab_type": "text"
      },
      "source": [
        "# Run either of the following cells.\n",
        "\n",
        "This will to connect you to the data:\n",
        "\n",
        "\n",
        "1.   Some test data from the Internet; or\n",
        "2.   the actual sensor data.\n"
      ]
    },
    {
      "cell_type": "markdown",
      "metadata": {
        "id": "U2HGQYrlJkmY",
        "colab_type": "text"
      },
      "source": [
        "Run the following cell to use test data from the Internet. "
      ]
    },
    {
      "cell_type": "code",
      "metadata": {
        "id": "wcnl6HV9VkDN",
        "colab_type": "code",
        "outputId": "99834cde-7d4f-41f8-a80a-ff008493f349",
        "colab": {
          "base_uri": "https://localhost:8080/",
          "height": 34
        }
      },
      "source": [
        "import pandas as pd\n",
        "\n",
        "from urllib.request import urlopen\n",
        "\n",
        "log_url = \"https://raw.githubusercontent.com/jbrownlee/Datasets/master/daily-min-temperatures.csv\"\n",
        "\n",
        "url = urlopen(log_url)\n",
        "\n",
        "series_example = pd.read_csv(log_url, header=0, parse_dates=[0])\n",
        "series_example.columns=['Date Time', 'Temp']\n",
        "\n",
        "series = series_example.drop_duplicates(subset='Date Time', keep='last')\n",
        "series = series.set_index('Date Time')\n",
        "series = series.resample('H').interpolate()\n",
        "\n",
        "print (\"Data loading ready.\")"
      ],
      "execution_count": 186,
      "outputs": [
        {
          "output_type": "stream",
          "text": [
            "Data loading ready.\n"
          ],
          "name": "stdout"
        }
      ]
    },
    {
      "cell_type": "markdown",
      "metadata": {
        "id": "bWl2BpSFJrIW",
        "colab_type": "text"
      },
      "source": [
        "Run the following cell to use actual sensor data. "
      ]
    },
    {
      "cell_type": "code",
      "metadata": {
        "id": "T4zvk4jQ-rma",
        "colab_type": "code",
        "outputId": "4439c756-5010-4e87-83f4-78fe0b0475ad",
        "colab": {
          "base_uri": "https://localhost:8080/",
          "height": 34
        }
      },
      "source": [
        "import pandas as pd\n",
        "\n",
        "from urllib.request import urlopen\n",
        "\n",
        "log_url = \"http://eerola.dy.fi/temp/temperature.log\"\n",
        "\n",
        "series_own = pd.read_csv(log_url, sep=\" \", parse_dates=[[0, 1]])\n",
        "series_own.columns=['Date Time', 'SourceInfo1', 'SourceInfo2', 'MeasurementInfo1', 'Temp', 'MeasurementInfo2', 'Measurement2']\n",
        "#series_own.insert(6, \"Target\", \"NaN\")\n",
        "dropcolumns = ['SourceInfo1', 'SourceInfo2', 'MeasurementInfo1', 'MeasurementInfo2', 'Measurement2']\n",
        "series_own.drop(dropcolumns, inplace=True, axis=1)\n",
        "series_own.set_index('Date Time', inplace=True)\n",
        "\n",
        "series = series_own.reset_index()\n",
        "series = series.drop_duplicates(subset='Date Time', keep='last')\n",
        "series = series.set_index('Date Time')\n",
        "series = series.resample('H').bfill()\n",
        "\n",
        "print (\"Data loading ready.\")"
      ],
      "execution_count": 192,
      "outputs": [
        {
          "output_type": "stream",
          "text": [
            "Data loading ready.\n"
          ],
          "name": "stdout"
        }
      ]
    },
    {
      "cell_type": "markdown",
      "metadata": {
        "id": "InxHdyc__T4o",
        "colab_type": "text"
      },
      "source": [
        "# Visualize the data to see what we've got."
      ]
    },
    {
      "cell_type": "code",
      "metadata": {
        "id": "CLsVxB-Rg834",
        "colab_type": "code",
        "outputId": "c64c7c74-a93c-42a6-befc-8be957856494",
        "colab": {
          "base_uri": "https://localhost:8080/",
          "height": 283
        }
      },
      "source": [
        "from matplotlib import pyplot\n",
        "\n",
        "\n",
        "series.plot()\n",
        "pyplot.show()"
      ],
      "execution_count": 193,
      "outputs": [
        {
          "output_type": "display_data",
          "data": {
            "image/png": "[encoded data removed]",
            "text/plain": [
              "<Figure size 432x288 with 1 Axes>"
            ]
          },
          "metadata": {
            "tags": []
          }
        }
      ]
    },
    {
      "cell_type": "markdown",
      "metadata": {
        "id": "QzpWgrB9BHgB",
        "colab_type": "text"
      },
      "source": [
        "# Let's run a forecast."
      ]
    },
    {
      "cell_type": "code",
      "metadata": {
        "id": "48C1JJgGH7ks",
        "colab_type": "code",
        "colab": {}
      },
      "source": [
        "forecast_days = 5"
      ],
      "execution_count": 0,
      "outputs": []
    },
    {
      "cell_type": "markdown",
      "metadata": {
        "id": "2PgMyNJNIOHD",
        "colab_type": "text"
      },
      "source": [
        "Let's fit the forecast model..."
      ]
    },
    {
      "cell_type": "code",
      "metadata": {
        "id": "YbAcnpts7twC",
        "colab_type": "code",
        "colab": {
          "base_uri": "https://localhost:8080/",
          "height": 71
        },
        "outputId": "65d199d0-eecd-4871-cf4b-e0b83d66d7c0"
      },
      "source": [
        "from pandas import read_csv\n",
        "from statsmodels.tsa.arima_model import ARIMA\n",
        "import datetime\n",
        "\n",
        "model = ARIMA(series, order=(4,0,2))\n",
        "model_fit = model.fit(disp=0)"
      ],
      "execution_count": 195,
      "outputs": [
        {
          "output_type": "stream",
          "text": [
            "/usr/local/lib/python3.6/dist-packages/statsmodels/base/model.py:512: ConvergenceWarning: Maximum Likelihood optimization failed to converge. Check mle_retvals\n",
            "  \"Check mle_retvals\", ConvergenceWarning)\n"
          ],
          "name": "stderr"
        }
      ]
    },
    {
      "cell_type": "markdown",
      "metadata": {
        "id": "PRw60pDHIU1Y",
        "colab_type": "text"
      },
      "source": [
        "...and run the forecast."
      ]
    },
    {
      "cell_type": "code",
      "metadata": {
        "id": "bVw-TftBC8EB",
        "colab_type": "code",
        "colab": {}
      },
      "source": [
        "start_index = series.index[-1]\n",
        "end_index = start_index + datetime.timedelta(forecast_days)\n",
        "forecast = model_fit.predict(start=start_index, end=end_index)"
      ],
      "execution_count": 0,
      "outputs": []
    },
    {
      "cell_type": "markdown",
      "metadata": {
        "id": "eJeUmLhaIgJ8",
        "colab_type": "text"
      },
      "source": [
        "Now we can visualize our data."
      ]
    },
    {
      "cell_type": "code",
      "metadata": {
        "id": "T0f6RHzB-DD3",
        "colab_type": "code",
        "colab": {
          "base_uri": "https://localhost:8080/",
          "height": 306
        },
        "outputId": "1296e4c0-23b1-4129-d83d-21a796b6df55"
      },
      "source": [
        "from matplotlib import pyplot\n",
        "\n",
        "\n",
        "series.last('7D').plot()\n",
        "forecast.plot()\n",
        "pyplot.show()"
      ],
      "execution_count": 191,
      "outputs": [
        {
          "output_type": "display_data",
          "data": {
            "image/png": "[encoded data removed]",
            "text/plain": [
              "<Figure size 432x288 with 1 Axes>"
            ]
          },
          "metadata": {
            "tags": []
          }
        }
      ]
    },
    {
      "cell_type": "code",
      "metadata": {
        "id": "MLkgWtOPE2GM",
        "colab_type": "code",
        "colab": {
          "base_uri": "https://localhost:8080/",
          "height": 1000
        },
        "outputId": "543e13da-da0e-4a2b-f4df-c27930e2ea0d"
      },
      "source": [
        "series"
      ],
      "execution_count": 130,
      "outputs": [
        {
          "output_type": "execute_result",
          "data": {
            "text/html": [
              "<div>\n",
              "<style scoped>\n",
              "    .dataframe tbody tr th:only-of-type {\n",
              "        vertical-align: middle;\n",
              "    }\n",
              "\n",
              "    .dataframe tbody tr th {\n",
              "        vertical-align: top;\n",
              "    }\n",
              "\n",
              "    .dataframe thead th {\n",
              "        text-align: right;\n",
              "    }\n",
              "</style>\n",
              "<table border=\"1\" class=\"dataframe\">\n",
              "  <thead>\n",
              "    <tr style=\"text-align: right;\">\n",
              "      <th></th>\n",
              "      <th>Temp</th>\n",
              "    </tr>\n",
              "    <tr>\n",
              "      <th>Date Time</th>\n",
              "      <th></th>\n",
              "    </tr>\n",
              "  </thead>\n",
              "  <tbody>\n",
              "    <tr>\n",
              "      <th>1981-01-01 00:00:00</th>\n",
              "      <td>20.7</td>\n",
              "    </tr>\n",
              "    <tr>\n",
              "      <th>1981-01-01 01:00:00</th>\n",
              "      <td>17.9</td>\n",
              "    </tr>\n",
              "    <tr>\n",
              "      <th>1981-01-01 02:00:00</th>\n",
              "      <td>17.9</td>\n",
              "    </tr>\n",
              "    <tr>\n",
              "      <th>1981-01-01 03:00:00</th>\n",
              "      <td>17.9</td>\n",
              "    </tr>\n",
              "    <tr>\n",
              "      <th>1981-01-01 04:00:00</th>\n",
              "      <td>17.9</td>\n",
              "    </tr>\n",
              "    <tr>\n",
              "      <th>1981-01-01 05:00:00</th>\n",
              "      <td>17.9</td>\n",
              "    </tr>\n",
              "    <tr>\n",
              "      <th>1981-01-01 06:00:00</th>\n",
              "      <td>17.9</td>\n",
              "    </tr>\n",
              "    <tr>\n",
              "      <th>1981-01-01 07:00:00</th>\n",
              "      <td>17.9</td>\n",
              "    </tr>\n",
              "    <tr>\n",
              "      <th>1981-01-01 08:00:00</th>\n",
              "      <td>17.9</td>\n",
              "    </tr>\n",
              "    <tr>\n",
              "      <th>1981-01-01 09:00:00</th>\n",
              "      <td>17.9</td>\n",
              "    </tr>\n",
              "    <tr>\n",
              "      <th>1981-01-01 10:00:00</th>\n",
              "      <td>17.9</td>\n",
              "    </tr>\n",
              "    <tr>\n",
              "      <th>1981-01-01 11:00:00</th>\n",
              "      <td>17.9</td>\n",
              "    </tr>\n",
              "    <tr>\n",
              "      <th>1981-01-01 12:00:00</th>\n",
              "      <td>17.9</td>\n",
              "    </tr>\n",
              "    <tr>\n",
              "      <th>1981-01-01 13:00:00</th>\n",
              "      <td>17.9</td>\n",
              "    </tr>\n",
              "    <tr>\n",
              "      <th>1981-01-01 14:00:00</th>\n",
              "      <td>17.9</td>\n",
              "    </tr>\n",
              "    <tr>\n",
              "      <th>1981-01-01 15:00:00</th>\n",
              "      <td>17.9</td>\n",
              "    </tr>\n",
              "    <tr>\n",
              "      <th>1981-01-01 16:00:00</th>\n",
              "      <td>17.9</td>\n",
              "    </tr>\n",
              "    <tr>\n",
              "      <th>1981-01-01 17:00:00</th>\n",
              "      <td>17.9</td>\n",
              "    </tr>\n",
              "    <tr>\n",
              "      <th>1981-01-01 18:00:00</th>\n",
              "      <td>17.9</td>\n",
              "    </tr>\n",
              "    <tr>\n",
              "      <th>1981-01-01 19:00:00</th>\n",
              "      <td>17.9</td>\n",
              "    </tr>\n",
              "    <tr>\n",
              "      <th>1981-01-01 20:00:00</th>\n",
              "      <td>17.9</td>\n",
              "    </tr>\n",
              "    <tr>\n",
              "      <th>1981-01-01 21:00:00</th>\n",
              "      <td>17.9</td>\n",
              "    </tr>\n",
              "    <tr>\n",
              "      <th>1981-01-01 22:00:00</th>\n",
              "      <td>17.9</td>\n",
              "    </tr>\n",
              "    <tr>\n",
              "      <th>1981-01-01 23:00:00</th>\n",
              "      <td>17.9</td>\n",
              "    </tr>\n",
              "    <tr>\n",
              "      <th>1981-01-02 00:00:00</th>\n",
              "      <td>17.9</td>\n",
              "    </tr>\n",
              "    <tr>\n",
              "      <th>1981-01-02 01:00:00</th>\n",
              "      <td>18.8</td>\n",
              "    </tr>\n",
              "    <tr>\n",
              "      <th>1981-01-02 02:00:00</th>\n",
              "      <td>18.8</td>\n",
              "    </tr>\n",
              "    <tr>\n",
              "      <th>1981-01-02 03:00:00</th>\n",
              "      <td>18.8</td>\n",
              "    </tr>\n",
              "    <tr>\n",
              "      <th>1981-01-02 04:00:00</th>\n",
              "      <td>18.8</td>\n",
              "    </tr>\n",
              "    <tr>\n",
              "      <th>1981-01-02 05:00:00</th>\n",
              "      <td>18.8</td>\n",
              "    </tr>\n",
              "    <tr>\n",
              "      <th>...</th>\n",
              "      <td>...</td>\n",
              "    </tr>\n",
              "    <tr>\n",
              "      <th>1990-12-29 19:00:00</th>\n",
              "      <td>15.7</td>\n",
              "    </tr>\n",
              "    <tr>\n",
              "      <th>1990-12-29 20:00:00</th>\n",
              "      <td>15.7</td>\n",
              "    </tr>\n",
              "    <tr>\n",
              "      <th>1990-12-29 21:00:00</th>\n",
              "      <td>15.7</td>\n",
              "    </tr>\n",
              "    <tr>\n",
              "      <th>1990-12-29 22:00:00</th>\n",
              "      <td>15.7</td>\n",
              "    </tr>\n",
              "    <tr>\n",
              "      <th>1990-12-29 23:00:00</th>\n",
              "      <td>15.7</td>\n",
              "    </tr>\n",
              "    <tr>\n",
              "      <th>1990-12-30 00:00:00</th>\n",
              "      <td>15.7</td>\n",
              "    </tr>\n",
              "    <tr>\n",
              "      <th>1990-12-30 01:00:00</th>\n",
              "      <td>13.0</td>\n",
              "    </tr>\n",
              "    <tr>\n",
              "      <th>1990-12-30 02:00:00</th>\n",
              "      <td>13.0</td>\n",
              "    </tr>\n",
              "    <tr>\n",
              "      <th>1990-12-30 03:00:00</th>\n",
              "      <td>13.0</td>\n",
              "    </tr>\n",
              "    <tr>\n",
              "      <th>1990-12-30 04:00:00</th>\n",
              "      <td>13.0</td>\n",
              "    </tr>\n",
              "    <tr>\n",
              "      <th>1990-12-30 05:00:00</th>\n",
              "      <td>13.0</td>\n",
              "    </tr>\n",
              "    <tr>\n",
              "      <th>1990-12-30 06:00:00</th>\n",
              "      <td>13.0</td>\n",
              "    </tr>\n",
              "    <tr>\n",
              "      <th>1990-12-30 07:00:00</th>\n",
              "      <td>13.0</td>\n",
              "    </tr>\n",
              "    <tr>\n",
              "      <th>1990-12-30 08:00:00</th>\n",
              "      <td>13.0</td>\n",
              "    </tr>\n",
              "    <tr>\n",
              "      <th>1990-12-30 09:00:00</th>\n",
              "      <td>13.0</td>\n",
              "    </tr>\n",
              "    <tr>\n",
              "      <th>1990-12-30 10:00:00</th>\n",
              "      <td>13.0</td>\n",
              "    </tr>\n",
              "    <tr>\n",
              "      <th>1990-12-30 11:00:00</th>\n",
              "      <td>13.0</td>\n",
              "    </tr>\n",
              "    <tr>\n",
              "      <th>1990-12-30 12:00:00</th>\n",
              "      <td>13.0</td>\n",
              "    </tr>\n",
              "    <tr>\n",
              "      <th>1990-12-30 13:00:00</th>\n",
              "      <td>13.0</td>\n",
              "    </tr>\n",
              "    <tr>\n",
              "      <th>1990-12-30 14:00:00</th>\n",
              "      <td>13.0</td>\n",
              "    </tr>\n",
              "    <tr>\n",
              "      <th>1990-12-30 15:00:00</th>\n",
              "      <td>13.0</td>\n",
              "    </tr>\n",
              "    <tr>\n",
              "      <th>1990-12-30 16:00:00</th>\n",
              "      <td>13.0</td>\n",
              "    </tr>\n",
              "    <tr>\n",
              "      <th>1990-12-30 17:00:00</th>\n",
              "      <td>13.0</td>\n",
              "    </tr>\n",
              "    <tr>\n",
              "      <th>1990-12-30 18:00:00</th>\n",
              "      <td>13.0</td>\n",
              "    </tr>\n",
              "    <tr>\n",
              "      <th>1990-12-30 19:00:00</th>\n",
              "      <td>13.0</td>\n",
              "    </tr>\n",
              "    <tr>\n",
              "      <th>1990-12-30 20:00:00</th>\n",
              "      <td>13.0</td>\n",
              "    </tr>\n",
              "    <tr>\n",
              "      <th>1990-12-30 21:00:00</th>\n",
              "      <td>13.0</td>\n",
              "    </tr>\n",
              "    <tr>\n",
              "      <th>1990-12-30 22:00:00</th>\n",
              "      <td>13.0</td>\n",
              "    </tr>\n",
              "    <tr>\n",
              "      <th>1990-12-30 23:00:00</th>\n",
              "      <td>13.0</td>\n",
              "    </tr>\n",
              "    <tr>\n",
              "      <th>1990-12-31 00:00:00</th>\n",
              "      <td>13.0</td>\n",
              "    </tr>\n",
              "  </tbody>\n",
              "</table>\n",
              "<p>87625 rows × 1 columns</p>\n",
              "</div>"
            ],
            "text/plain": [
              "                     Temp\n",
              "Date Time                \n",
              "1981-01-01 00:00:00  20.7\n",
              "1981-01-01 01:00:00  17.9\n",
              "1981-01-01 02:00:00  17.9\n",
              "1981-01-01 03:00:00  17.9\n",
              "1981-01-01 04:00:00  17.9\n",
              "1981-01-01 05:00:00  17.9\n",
              "1981-01-01 06:00:00  17.9\n",
              "1981-01-01 07:00:00  17.9\n",
              "1981-01-01 08:00:00  17.9\n",
              "1981-01-01 09:00:00  17.9\n",
              "1981-01-01 10:00:00  17.9\n",
              "1981-01-01 11:00:00  17.9\n",
              "1981-01-01 12:00:00  17.9\n",
              "1981-01-01 13:00:00  17.9\n",
              "1981-01-01 14:00:00  17.9\n",
              "1981-01-01 15:00:00  17.9\n",
              "1981-01-01 16:00:00  17.9\n",
              "1981-01-01 17:00:00  17.9\n",
              "1981-01-01 18:00:00  17.9\n",
              "1981-01-01 19:00:00  17.9\n",
              "1981-01-01 20:00:00  17.9\n",
              "1981-01-01 21:00:00  17.9\n",
              "1981-01-01 22:00:00  17.9\n",
              "1981-01-01 23:00:00  17.9\n",
              "1981-01-02 00:00:00  17.9\n",
              "1981-01-02 01:00:00  18.8\n",
              "1981-01-02 02:00:00  18.8\n",
              "1981-01-02 03:00:00  18.8\n",
              "1981-01-02 04:00:00  18.8\n",
              "1981-01-02 05:00:00  18.8\n",
              "...                   ...\n",
              "1990-12-29 19:00:00  15.7\n",
              "1990-12-29 20:00:00  15.7\n",
              "1990-12-29 21:00:00  15.7\n",
              "1990-12-29 22:00:00  15.7\n",
              "1990-12-29 23:00:00  15.7\n",
              "1990-12-30 00:00:00  15.7\n",
              "1990-12-30 01:00:00  13.0\n",
              "1990-12-30 02:00:00  13.0\n",
              "1990-12-30 03:00:00  13.0\n",
              "1990-12-30 04:00:00  13.0\n",
              "1990-12-30 05:00:00  13.0\n",
              "1990-12-30 06:00:00  13.0\n",
              "1990-12-30 07:00:00  13.0\n",
              "1990-12-30 08:00:00  13.0\n",
              "1990-12-30 09:00:00  13.0\n",
              "1990-12-30 10:00:00  13.0\n",
              "1990-12-30 11:00:00  13.0\n",
              "1990-12-30 12:00:00  13.0\n",
              "1990-12-30 13:00:00  13.0\n",
              "1990-12-30 14:00:00  13.0\n",
              "1990-12-30 15:00:00  13.0\n",
              "1990-12-30 16:00:00  13.0\n",
              "1990-12-30 17:00:00  13.0\n",
              "1990-12-30 18:00:00  13.0\n",
              "1990-12-30 19:00:00  13.0\n",
              "1990-12-30 20:00:00  13.0\n",
              "1990-12-30 21:00:00  13.0\n",
              "1990-12-30 22:00:00  13.0\n",
              "1990-12-30 23:00:00  13.0\n",
              "1990-12-31 00:00:00  13.0\n",
              "\n",
              "[87625 rows x 1 columns]"
            ]
          },
          "metadata": {
            "tags": []
          },
          "execution_count": 130
        }
      ]
    },
    {
      "cell_type": "markdown",
      "metadata": {
        "id": "ifOrrhc2Bf69",
        "colab_type": "text"
      },
      "source": [
        "# We can compare the forecast to current data."
      ]
    },
    {
      "cell_type": "code",
      "metadata": {
        "id": "i-rvtUS0BqMh",
        "colab_type": "code",
        "outputId": "544bc965-720c-47d9-fb06-a9786cf06519",
        "colab": {
          "base_uri": "https://localhost:8080/",
          "height": 68
        }
      },
      "source": [
        "print(dataset.tail(1))"
      ],
      "execution_count": 0,
      "outputs": [
        {
          "output_type": "stream",
          "text": [
            "                      Temp\n",
            "Date Time                 \n",
            "2019-09-14 05:00:00  6.845\n"
          ],
          "name": "stdout"
        }
      ]
    },
    {
      "cell_type": "code",
      "metadata": {
        "id": "Wr34nICyBuWI",
        "colab_type": "code",
        "outputId": "b64eb8e3-cc1f-403d-b467-4d7fd6de30ff",
        "colab": {
          "base_uri": "https://localhost:8080/",
          "height": 255
        }
      },
      "source": [
        "print(validation.head(12))"
      ],
      "execution_count": 0,
      "outputs": [
        {
          "output_type": "stream",
          "text": [
            "                      Temp\n",
            "Date Time                 \n",
            "2019-09-14 06:00:04   6.56\n",
            "2019-09-14 06:30:04   6.63\n",
            "2019-09-14 07:00:04   6.56\n",
            "2019-09-14 07:30:04   6.19\n",
            "2019-09-14 08:00:03   6.63\n",
            "2019-09-14 08:30:04   8.25\n",
            "2019-09-14 09:00:04   9.13\n",
            "2019-09-14 09:30:03   9.69\n",
            "2019-09-14 10:00:04  10.25\n",
            "2019-09-14 10:30:04  10.88\n",
            "2019-09-14 11:00:05  11.50\n",
            "2019-09-14 11:30:04  11.94\n"
          ],
          "name": "stdout"
        }
      ]
    }
  ]
}