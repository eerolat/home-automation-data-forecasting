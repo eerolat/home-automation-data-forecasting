{
  "nbformat": 4,
  "nbformat_minor": 0,
  "metadata": {
    "colab": {
      "name": "Weather Forecast ARIMA.ipynb",
      "provenance": [],
      "collapsed_sections": []
    },
    "kernelspec": {
      "name": "python3",
      "display_name": "Python 3"
    }
  },
  "cells": [
    {
      "cell_type": "markdown",
      "metadata": {
        "id": "v1lyiRF0-A5u",
        "colab_type": "text"
      },
      "source": [
        "Time-series forecasting from IoT Home Automation Data.\n",
        "\n",
        "Tuomas Eerola - 2019\n",
        "\n",
        "Data source: https://github.com/eerolat/home-automation-data-logger"
      ]
    },
    {
      "cell_type": "markdown",
      "metadata": {
        "id": "3IBlOHGxCKWa",
        "colab_type": "text"
      },
      "source": [
        "# Run either of the following cells.\n",
        "\n",
        "This will to connect you to the data:\n",
        "\n",
        "\n",
        "1.   Some test data from the Internet; or\n",
        "2.   the actual sensor data.\n"
      ]
    },
    {
      "cell_type": "code",
      "metadata": {
        "id": "wcnl6HV9VkDN",
        "colab_type": "code",
        "colab": {}
      },
      "source": [
        "import pandas as pd\n",
        "\n",
        "from urllib.request import urlopen\n",
        "\n",
        "log_url = \"https://raw.githubusercontent.com/jbrownlee/Datasets/master/daily-min-temperatures.csv\"\n",
        "\n",
        "url = urlopen(log_url)\n",
        "\n",
        "series_example = pd.read_csv(log_url, header=0, index_col=0)\n",
        "\n",
        "series = series_example\n",
        "\n",
        "print (\"Data loading ready.\")"
      ],
      "execution_count": 0,
      "outputs": []
    },
    {
      "cell_type": "code",
      "metadata": {
        "id": "T4zvk4jQ-rma",
        "colab_type": "code",
        "colab": {}
      },
      "source": [
        "import pandas as pd\n",
        "\n",
        "from urllib.request import urlopen\n",
        "\n",
        "log_url = \"http://eerola.dy.fi/temp/temperature.log\"\n",
        "\n",
        "series_own = pd.read_csv(log_url, sep=\" \", parse_dates=[[0, 1]])\n",
        "series_own.columns=['Date Time', 'SourceInfo1', 'SourceInfo2', 'MeasurementInfo1', 'Temp', 'MeasurementInfo2', 'Measurement2']\n",
        "#series_own.insert(6, \"Target\", \"NaN\")\n",
        "dropcolumns = ['SourceInfo1', 'SourceInfo2', 'MeasurementInfo1', 'MeasurementInfo2', 'Measurement2']\n",
        "series_own.drop(dropcolumns, inplace=True, axis=1)\n",
        "series_own.set_index('Date Time', inplace=True)\n",
        "\n",
        "series = series_own\n",
        "\n",
        "series = series.resample('H').mean()\n",
        "\n",
        "series = series_own.tail(1000)\n",
        "\n",
        "print (\"Data loading ready.\")"
      ],
      "execution_count": 0,
      "outputs": []
    },
    {
      "cell_type": "markdown",
      "metadata": {
        "id": "InxHdyc__T4o",
        "colab_type": "text"
      },
      "source": [
        "# Visualize the data to see what we've got."
      ]
    },
    {
      "cell_type": "code",
      "metadata": {
        "id": "CLsVxB-Rg834",
        "colab_type": "code",
        "colab": {}
      },
      "source": [
        "from matplotlib import pyplot\n",
        "\n",
        "\n",
        "series.plot()\n",
        "pyplot.show()"
      ],
      "execution_count": 0,
      "outputs": []
    },
    {
      "cell_type": "markdown",
      "metadata": {
        "id": "HmTh1Kx7_u1u",
        "colab_type": "text"
      },
      "source": [
        "# Split the data into training and validation datasets."
      ]
    },
    {
      "cell_type": "code",
      "metadata": {
        "id": "ntSbov3x_6Ay",
        "colab_type": "code",
        "colab": {}
      },
      "source": [
        "#How many percent of the source data will be used as validation data\n",
        "\n",
        "validation_part = 0.2"
      ],
      "execution_count": 0,
      "outputs": []
    },
    {
      "cell_type": "code",
      "metadata": {
        "id": "7TFDubfKWYM_",
        "colab_type": "code",
        "colab": {}
      },
      "source": [
        "split_point = len(series) - (round(len(series) * validation_part))\n",
        "dataset, validation = series[0:split_point], series[split_point:]\n",
        "print('Dataset %d, Validation %d' % (len(dataset), len(validation)))\n",
        "dataset.to_csv('dataset.csv', index=False)\n",
        "validation.to_csv('validation.csv', index=False)"
      ],
      "execution_count": 0,
      "outputs": []
    },
    {
      "cell_type": "markdown",
      "metadata": {
        "id": "9Pg3LHnzAkbI",
        "colab_type": "text"
      },
      "source": [
        "# Let's define some fuctions that we will use later."
      ]
    },
    {
      "cell_type": "code",
      "metadata": {
        "id": "75zjnpPddKry",
        "colab_type": "code",
        "colab": {}
      },
      "source": [
        "import numpy\n",
        "\n",
        "# create a differenced series\n",
        "def difference(dataset, interval=1):\n",
        "  diff = list()\n",
        "  for i in range(interval, len(dataset)):\n",
        "    if (i != 0 and i - interval != 0):\n",
        "      value = float(dataset[i]) - float(dataset[i - interval])\n",
        "      diff.append(value)\n",
        "  return numpy.array(diff)\n",
        "\n",
        "print(\"Ready.\")"
      ],
      "execution_count": 0,
      "outputs": []
    },
    {
      "cell_type": "code",
      "metadata": {
        "id": "7WYUINomXkxd",
        "colab_type": "code",
        "colab": {}
      },
      "source": [
        "# invert differenced value\n",
        "def inverse_difference(history, yhat, interval=1):\n",
        "\treturn yhat + float(history[-interval])\n",
        "\n",
        "print(\"Ready.\")"
      ],
      "execution_count": 0,
      "outputs": []
    },
    {
      "cell_type": "markdown",
      "metadata": {
        "id": "QzpWgrB9BHgB",
        "colab_type": "text"
      },
      "source": [
        "# Let's run a forecast for the following 6 hours (12 time steps)."
      ]
    },
    {
      "cell_type": "code",
      "metadata": {
        "id": "b9mtrzVpd48K",
        "colab_type": "code",
        "colab": {}
      },
      "source": [
        "from pandas import read_csv\n",
        "from statsmodels.tsa.arima_model import ARIMA\n",
        "\n",
        "# load dataset\n",
        "series = read_csv('dataset.csv', header=None)\n",
        "# seasonal difference\n",
        "X = series.values\n",
        "#days_in_year = 365\n",
        "samples_per_day = 24*2\n",
        "differenced = difference(X, samples_per_day)\n",
        "# fit model\n",
        "model = ARIMA(differenced, order=(12,0,1))\n",
        "model_fit = model.fit(disp=0)\n",
        "# multi-step out-of-sample forecast\n",
        "start_index = len(differenced)\n",
        "end_index = start_index + 11\n",
        "forecast = model_fit.predict(start=start_index, end=end_index)\n",
        "# invert the differenced forecast to something usable\n",
        "history = [x for x in X]\n",
        "measurement = 1 \n",
        "for yhat in forecast:\n",
        "\tinverted = inverse_difference(history, yhat, samples_per_day)\n",
        "\tprint('Measurement %d: %f' % (measurement, inverted))\n",
        "\thistory.append(inverted)\n",
        "\tmeasurement += 1"
      ],
      "execution_count": 0,
      "outputs": []
    },
    {
      "cell_type": "markdown",
      "metadata": {
        "id": "ifOrrhc2Bf69",
        "colab_type": "text"
      },
      "source": [
        "# We can compare the forecast to current data."
      ]
    },
    {
      "cell_type": "code",
      "metadata": {
        "id": "i-rvtUS0BqMh",
        "colab_type": "code",
        "colab": {}
      },
      "source": [
        "print(dataset.tail(1))"
      ],
      "execution_count": 0,
      "outputs": []
    },
    {
      "cell_type": "code",
      "metadata": {
        "id": "Wr34nICyBuWI",
        "colab_type": "code",
        "colab": {}
      },
      "source": [
        "print(validation.head(12))"
      ],
      "execution_count": 0,
      "outputs": []
    }
  ]
}